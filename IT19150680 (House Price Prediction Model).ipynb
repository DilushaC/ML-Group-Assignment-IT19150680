{
  "cells": [
    {
      "cell_type": "markdown",
      "metadata": {
        "id": "zqSqj6NYzWZC"
      },
      "source": [
        "**Import ML Libraries**"
      ]
    },
    {
      "cell_type": "code",
      "execution_count": 367,
      "metadata": {
        "id": "b_kkCiMFxf-J"
      },
      "outputs": [],
      "source": [
        "#Import ML Libraries\n",
        "import numpy as np\n",
        "import pandas as pd\n",
        "import matplotlib.pyplot as plt\n",
        "import seaborn as sns\n",
        "from sklearn.linear_model import LinearRegression\n",
        "from sklearn.model_selection import train_test_split\n",
        "from sklearn.preprocessing import StandardScaler\n",
        "from sklearn.metrics import r2_score"
      ]
    },
    {
      "cell_type": "markdown",
      "metadata": {
        "id": "WDTfiSOtzchw"
      },
      "source": [
        "**Read DataSet File**"
      ]
    },
    {
      "cell_type": "code",
      "execution_count": 368,
      "metadata": {
        "id": "HA-f0B5wzgVU"
      },
      "outputs": [],
      "source": [
        "#Read DataSet File\n",
        "dataSet = pd.read_csv('HousePriceDataset.csv')"
      ]
    },
    {
      "cell_type": "markdown",
      "metadata": {
        "id": "NucBthqYzjTq"
      },
      "source": [
        "**Display Preview of the data**"
      ]
    },
    {
      "cell_type": "code",
      "execution_count": 369,
      "metadata": {
        "colab": {
          "base_uri": "https://localhost:8080/",
          "height": 206
        },
        "id": "enZZuv1fzn0f",
        "outputId": "1f5b3715-de16-4b85-97c9-a0f516b0e435"
      },
      "outputs": [
        {
          "data": {
            "text/html": [
              "<div>\n",
              "<style scoped>\n",
              "    .dataframe tbody tr th:only-of-type {\n",
              "        vertical-align: middle;\n",
              "    }\n",
              "\n",
              "    .dataframe tbody tr th {\n",
              "        vertical-align: top;\n",
              "    }\n",
              "\n",
              "    .dataframe thead th {\n",
              "        text-align: right;\n",
              "    }\n",
              "</style>\n",
              "<table border=\"1\" class=\"dataframe\">\n",
              "  <thead>\n",
              "    <tr style=\"text-align: right;\">\n",
              "      <th></th>\n",
              "      <th>date</th>\n",
              "      <th>price</th>\n",
              "      <th>bedrooms</th>\n",
              "      <th>bathrooms</th>\n",
              "      <th>sqft_living</th>\n",
              "      <th>sqft_lot</th>\n",
              "      <th>floors</th>\n",
              "      <th>waterfront</th>\n",
              "      <th>view</th>\n",
              "      <th>condition</th>\n",
              "      <th>sqft_above</th>\n",
              "      <th>sqft_basement</th>\n",
              "      <th>yr_built</th>\n",
              "      <th>yr_renovated</th>\n",
              "      <th>street</th>\n",
              "      <th>city</th>\n",
              "      <th>statezip</th>\n",
              "      <th>country</th>\n",
              "    </tr>\n",
              "  </thead>\n",
              "  <tbody>\n",
              "    <tr>\n",
              "      <th>0</th>\n",
              "      <td>2014-05-02 00:00:00</td>\n",
              "      <td>313000.0</td>\n",
              "      <td>3.0</td>\n",
              "      <td>1.50</td>\n",
              "      <td>1340</td>\n",
              "      <td>7912</td>\n",
              "      <td>1.5</td>\n",
              "      <td>0</td>\n",
              "      <td>0</td>\n",
              "      <td>3</td>\n",
              "      <td>1340</td>\n",
              "      <td>0</td>\n",
              "      <td>1955</td>\n",
              "      <td>2005</td>\n",
              "      <td>18810 Densmore Ave N</td>\n",
              "      <td>Shoreline</td>\n",
              "      <td>WA 98133</td>\n",
              "      <td>USA</td>\n",
              "    </tr>\n",
              "    <tr>\n",
              "      <th>1</th>\n",
              "      <td>2014-05-02 00:00:00</td>\n",
              "      <td>2384000.0</td>\n",
              "      <td>5.0</td>\n",
              "      <td>2.50</td>\n",
              "      <td>3650</td>\n",
              "      <td>9050</td>\n",
              "      <td>2.0</td>\n",
              "      <td>0</td>\n",
              "      <td>4</td>\n",
              "      <td>5</td>\n",
              "      <td>3370</td>\n",
              "      <td>280</td>\n",
              "      <td>1921</td>\n",
              "      <td>0</td>\n",
              "      <td>709 W Blaine St</td>\n",
              "      <td>Seattle</td>\n",
              "      <td>WA 98119</td>\n",
              "      <td>USA</td>\n",
              "    </tr>\n",
              "    <tr>\n",
              "      <th>2</th>\n",
              "      <td>2014-05-02 00:00:00</td>\n",
              "      <td>342000.0</td>\n",
              "      <td>3.0</td>\n",
              "      <td>2.00</td>\n",
              "      <td>1930</td>\n",
              "      <td>11947</td>\n",
              "      <td>1.0</td>\n",
              "      <td>0</td>\n",
              "      <td>0</td>\n",
              "      <td>4</td>\n",
              "      <td>1930</td>\n",
              "      <td>0</td>\n",
              "      <td>1966</td>\n",
              "      <td>0</td>\n",
              "      <td>26206-26214 143rd Ave SE</td>\n",
              "      <td>Kent</td>\n",
              "      <td>WA 98042</td>\n",
              "      <td>USA</td>\n",
              "    </tr>\n",
              "    <tr>\n",
              "      <th>3</th>\n",
              "      <td>2014-05-02 00:00:00</td>\n",
              "      <td>420000.0</td>\n",
              "      <td>3.0</td>\n",
              "      <td>2.25</td>\n",
              "      <td>2000</td>\n",
              "      <td>8030</td>\n",
              "      <td>1.0</td>\n",
              "      <td>0</td>\n",
              "      <td>0</td>\n",
              "      <td>4</td>\n",
              "      <td>1000</td>\n",
              "      <td>1000</td>\n",
              "      <td>1963</td>\n",
              "      <td>0</td>\n",
              "      <td>857 170th Pl NE</td>\n",
              "      <td>Bellevue</td>\n",
              "      <td>WA 98008</td>\n",
              "      <td>USA</td>\n",
              "    </tr>\n",
              "    <tr>\n",
              "      <th>4</th>\n",
              "      <td>2014-05-02 00:00:00</td>\n",
              "      <td>550000.0</td>\n",
              "      <td>4.0</td>\n",
              "      <td>2.50</td>\n",
              "      <td>1940</td>\n",
              "      <td>10500</td>\n",
              "      <td>1.0</td>\n",
              "      <td>0</td>\n",
              "      <td>0</td>\n",
              "      <td>4</td>\n",
              "      <td>1140</td>\n",
              "      <td>800</td>\n",
              "      <td>1976</td>\n",
              "      <td>1992</td>\n",
              "      <td>9105 170th Ave NE</td>\n",
              "      <td>Redmond</td>\n",
              "      <td>WA 98052</td>\n",
              "      <td>USA</td>\n",
              "    </tr>\n",
              "  </tbody>\n",
              "</table>\n",
              "</div>"
            ],
            "text/plain": [
              "                  date      price  bedrooms  bathrooms  sqft_living  sqft_lot   \n",
              "0  2014-05-02 00:00:00   313000.0       3.0       1.50         1340      7912  \\\n",
              "1  2014-05-02 00:00:00  2384000.0       5.0       2.50         3650      9050   \n",
              "2  2014-05-02 00:00:00   342000.0       3.0       2.00         1930     11947   \n",
              "3  2014-05-02 00:00:00   420000.0       3.0       2.25         2000      8030   \n",
              "4  2014-05-02 00:00:00   550000.0       4.0       2.50         1940     10500   \n",
              "\n",
              "   floors  waterfront  view  condition  sqft_above  sqft_basement  yr_built   \n",
              "0     1.5           0     0          3        1340              0      1955  \\\n",
              "1     2.0           0     4          5        3370            280      1921   \n",
              "2     1.0           0     0          4        1930              0      1966   \n",
              "3     1.0           0     0          4        1000           1000      1963   \n",
              "4     1.0           0     0          4        1140            800      1976   \n",
              "\n",
              "   yr_renovated                    street       city  statezip country  \n",
              "0          2005      18810 Densmore Ave N  Shoreline  WA 98133     USA  \n",
              "1             0           709 W Blaine St    Seattle  WA 98119     USA  \n",
              "2             0  26206-26214 143rd Ave SE       Kent  WA 98042     USA  \n",
              "3             0           857 170th Pl NE   Bellevue  WA 98008     USA  \n",
              "4          1992         9105 170th Ave NE    Redmond  WA 98052     USA  "
            ]
          },
          "execution_count": 369,
          "metadata": {},
          "output_type": "execute_result"
        }
      ],
      "source": [
        "#Display Preview of the data\n",
        "dataSet.head()"
      ]
    },
    {
      "cell_type": "markdown",
      "metadata": {
        "id": "db1yXhcEzxin"
      },
      "source": [
        "**Checking DataSet data types**"
      ]
    },
    {
      "cell_type": "code",
      "execution_count": 370,
      "metadata": {
        "colab": {
          "base_uri": "https://localhost:8080/"
        },
        "id": "Ug92KuoUz1a4",
        "outputId": "40ad8140-eece-48fe-ea0e-27f2578c4fbc"
      },
      "outputs": [
        {
          "data": {
            "text/plain": [
              "date              object\n",
              "price            float64\n",
              "bedrooms         float64\n",
              "bathrooms        float64\n",
              "sqft_living        int64\n",
              "sqft_lot           int64\n",
              "floors           float64\n",
              "waterfront         int64\n",
              "view               int64\n",
              "condition          int64\n",
              "sqft_above         int64\n",
              "sqft_basement      int64\n",
              "yr_built           int64\n",
              "yr_renovated       int64\n",
              "street            object\n",
              "city              object\n",
              "statezip          object\n",
              "country           object\n",
              "dtype: object"
            ]
          },
          "execution_count": 370,
          "metadata": {},
          "output_type": "execute_result"
        }
      ],
      "source": [
        "#Checking DataSet data types\n",
        "dataSet.dtypes"
      ]
    },
    {
      "cell_type": "markdown",
      "metadata": {
        "id": "vSWaFpsBz46Y"
      },
      "source": [
        "**Check whole info in summary included no of records**"
      ]
    },
    {
      "cell_type": "code",
      "execution_count": 371,
      "metadata": {
        "colab": {
          "base_uri": "https://localhost:8080/"
        },
        "id": "nIzH_cuD0CJJ",
        "outputId": "bb5aa9d8-db71-4228-e492-3744420cbd34"
      },
      "outputs": [
        {
          "name": "stdout",
          "output_type": "stream",
          "text": [
            "<class 'pandas.core.frame.DataFrame'>\n",
            "RangeIndex: 4600 entries, 0 to 4599\n",
            "Data columns (total 18 columns):\n",
            " #   Column         Non-Null Count  Dtype  \n",
            "---  ------         --------------  -----  \n",
            " 0   date           4600 non-null   object \n",
            " 1   price          4600 non-null   float64\n",
            " 2   bedrooms       4600 non-null   float64\n",
            " 3   bathrooms      4600 non-null   float64\n",
            " 4   sqft_living    4600 non-null   int64  \n",
            " 5   sqft_lot       4600 non-null   int64  \n",
            " 6   floors         4600 non-null   float64\n",
            " 7   waterfront     4600 non-null   int64  \n",
            " 8   view           4600 non-null   int64  \n",
            " 9   condition      4600 non-null   int64  \n",
            " 10  sqft_above     4600 non-null   int64  \n",
            " 11  sqft_basement  4600 non-null   int64  \n",
            " 12  yr_built       4600 non-null   int64  \n",
            " 13  yr_renovated   4600 non-null   int64  \n",
            " 14  street         4600 non-null   object \n",
            " 15  city           4600 non-null   object \n",
            " 16  statezip       4600 non-null   object \n",
            " 17  country        4600 non-null   object \n",
            "dtypes: float64(4), int64(9), object(5)\n",
            "memory usage: 647.0+ KB\n"
          ]
        }
      ],
      "source": [
        "#Check whole info in summary included no of records\n",
        "dataSet.info()"
      ]
    },
    {
      "cell_type": "markdown",
      "metadata": {
        "id": "6eK4eBMI0E8o"
      },
      "source": [
        "**Check null data records by total from each column**"
      ]
    },
    {
      "cell_type": "code",
      "execution_count": 372,
      "metadata": {
        "colab": {
          "base_uri": "https://localhost:8080/"
        },
        "id": "M-o_P06t0Oxw",
        "outputId": "976cf9b4-992b-43ed-9c95-3b971abd70c4"
      },
      "outputs": [
        {
          "data": {
            "text/plain": [
              "date             0\n",
              "price            0\n",
              "bedrooms         0\n",
              "bathrooms        0\n",
              "sqft_living      0\n",
              "sqft_lot         0\n",
              "floors           0\n",
              "waterfront       0\n",
              "view             0\n",
              "condition        0\n",
              "sqft_above       0\n",
              "sqft_basement    0\n",
              "yr_built         0\n",
              "yr_renovated     0\n",
              "street           0\n",
              "city             0\n",
              "statezip         0\n",
              "country          0\n",
              "dtype: int64"
            ]
          },
          "execution_count": 372,
          "metadata": {},
          "output_type": "execute_result"
        }
      ],
      "source": [
        "#Check null data records by total from each column\n",
        "dataSet.isnull().sum()"
      ]
    },
    {
      "cell_type": "markdown",
      "metadata": {
        "id": "p5aT8Xoy0RwO"
      },
      "source": [
        "*So that theres no null data records in this dataset*"
      ]
    },
    {
      "cell_type": "markdown",
      "metadata": {
        "id": "-YztcFa90WJx"
      },
      "source": [
        "**Check the Math measures by describe dataset by round the value upto 2 decimal points**"
      ]
    },
    {
      "cell_type": "code",
      "execution_count": 373,
      "metadata": {
        "colab": {
          "base_uri": "https://localhost:8080/",
          "height": 300
        },
        "id": "or49qxPT0uA_",
        "outputId": "eb33e426-38ad-4eab-937c-e8488dc3401d"
      },
      "outputs": [
        {
          "data": {
            "text/html": [
              "<div>\n",
              "<style scoped>\n",
              "    .dataframe tbody tr th:only-of-type {\n",
              "        vertical-align: middle;\n",
              "    }\n",
              "\n",
              "    .dataframe tbody tr th {\n",
              "        vertical-align: top;\n",
              "    }\n",
              "\n",
              "    .dataframe thead th {\n",
              "        text-align: right;\n",
              "    }\n",
              "</style>\n",
              "<table border=\"1\" class=\"dataframe\">\n",
              "  <thead>\n",
              "    <tr style=\"text-align: right;\">\n",
              "      <th></th>\n",
              "      <th>price</th>\n",
              "      <th>bedrooms</th>\n",
              "      <th>bathrooms</th>\n",
              "      <th>sqft_living</th>\n",
              "      <th>sqft_lot</th>\n",
              "      <th>floors</th>\n",
              "      <th>waterfront</th>\n",
              "      <th>view</th>\n",
              "      <th>condition</th>\n",
              "      <th>sqft_above</th>\n",
              "      <th>sqft_basement</th>\n",
              "      <th>yr_built</th>\n",
              "      <th>yr_renovated</th>\n",
              "    </tr>\n",
              "  </thead>\n",
              "  <tbody>\n",
              "    <tr>\n",
              "      <th>count</th>\n",
              "      <td>4600.00</td>\n",
              "      <td>4600.00</td>\n",
              "      <td>4600.00</td>\n",
              "      <td>4600.00</td>\n",
              "      <td>4600.00</td>\n",
              "      <td>4600.00</td>\n",
              "      <td>4600.00</td>\n",
              "      <td>4600.00</td>\n",
              "      <td>4600.00</td>\n",
              "      <td>4600.00</td>\n",
              "      <td>4600.00</td>\n",
              "      <td>4600.00</td>\n",
              "      <td>4600.00</td>\n",
              "    </tr>\n",
              "    <tr>\n",
              "      <th>mean</th>\n",
              "      <td>551962.99</td>\n",
              "      <td>3.40</td>\n",
              "      <td>2.16</td>\n",
              "      <td>2139.35</td>\n",
              "      <td>14852.52</td>\n",
              "      <td>1.51</td>\n",
              "      <td>0.01</td>\n",
              "      <td>0.24</td>\n",
              "      <td>3.45</td>\n",
              "      <td>1827.27</td>\n",
              "      <td>312.08</td>\n",
              "      <td>1970.79</td>\n",
              "      <td>808.61</td>\n",
              "    </tr>\n",
              "    <tr>\n",
              "      <th>std</th>\n",
              "      <td>563834.70</td>\n",
              "      <td>0.91</td>\n",
              "      <td>0.78</td>\n",
              "      <td>963.21</td>\n",
              "      <td>35884.44</td>\n",
              "      <td>0.54</td>\n",
              "      <td>0.08</td>\n",
              "      <td>0.78</td>\n",
              "      <td>0.68</td>\n",
              "      <td>862.17</td>\n",
              "      <td>464.14</td>\n",
              "      <td>29.73</td>\n",
              "      <td>979.41</td>\n",
              "    </tr>\n",
              "    <tr>\n",
              "      <th>min</th>\n",
              "      <td>0.00</td>\n",
              "      <td>0.00</td>\n",
              "      <td>0.00</td>\n",
              "      <td>370.00</td>\n",
              "      <td>638.00</td>\n",
              "      <td>1.00</td>\n",
              "      <td>0.00</td>\n",
              "      <td>0.00</td>\n",
              "      <td>1.00</td>\n",
              "      <td>370.00</td>\n",
              "      <td>0.00</td>\n",
              "      <td>1900.00</td>\n",
              "      <td>0.00</td>\n",
              "    </tr>\n",
              "    <tr>\n",
              "      <th>25%</th>\n",
              "      <td>322875.00</td>\n",
              "      <td>3.00</td>\n",
              "      <td>1.75</td>\n",
              "      <td>1460.00</td>\n",
              "      <td>5000.75</td>\n",
              "      <td>1.00</td>\n",
              "      <td>0.00</td>\n",
              "      <td>0.00</td>\n",
              "      <td>3.00</td>\n",
              "      <td>1190.00</td>\n",
              "      <td>0.00</td>\n",
              "      <td>1951.00</td>\n",
              "      <td>0.00</td>\n",
              "    </tr>\n",
              "    <tr>\n",
              "      <th>50%</th>\n",
              "      <td>460943.46</td>\n",
              "      <td>3.00</td>\n",
              "      <td>2.25</td>\n",
              "      <td>1980.00</td>\n",
              "      <td>7683.00</td>\n",
              "      <td>1.50</td>\n",
              "      <td>0.00</td>\n",
              "      <td>0.00</td>\n",
              "      <td>3.00</td>\n",
              "      <td>1590.00</td>\n",
              "      <td>0.00</td>\n",
              "      <td>1976.00</td>\n",
              "      <td>0.00</td>\n",
              "    </tr>\n",
              "    <tr>\n",
              "      <th>75%</th>\n",
              "      <td>654962.50</td>\n",
              "      <td>4.00</td>\n",
              "      <td>2.50</td>\n",
              "      <td>2620.00</td>\n",
              "      <td>11001.25</td>\n",
              "      <td>2.00</td>\n",
              "      <td>0.00</td>\n",
              "      <td>0.00</td>\n",
              "      <td>4.00</td>\n",
              "      <td>2300.00</td>\n",
              "      <td>610.00</td>\n",
              "      <td>1997.00</td>\n",
              "      <td>1999.00</td>\n",
              "    </tr>\n",
              "    <tr>\n",
              "      <th>max</th>\n",
              "      <td>26590000.00</td>\n",
              "      <td>9.00</td>\n",
              "      <td>8.00</td>\n",
              "      <td>13540.00</td>\n",
              "      <td>1074218.00</td>\n",
              "      <td>3.50</td>\n",
              "      <td>1.00</td>\n",
              "      <td>4.00</td>\n",
              "      <td>5.00</td>\n",
              "      <td>9410.00</td>\n",
              "      <td>4820.00</td>\n",
              "      <td>2014.00</td>\n",
              "      <td>2014.00</td>\n",
              "    </tr>\n",
              "  </tbody>\n",
              "</table>\n",
              "</div>"
            ],
            "text/plain": [
              "             price  bedrooms  bathrooms  sqft_living    sqft_lot   floors   \n",
              "count      4600.00   4600.00    4600.00      4600.00     4600.00  4600.00  \\\n",
              "mean     551962.99      3.40       2.16      2139.35    14852.52     1.51   \n",
              "std      563834.70      0.91       0.78       963.21    35884.44     0.54   \n",
              "min           0.00      0.00       0.00       370.00      638.00     1.00   \n",
              "25%      322875.00      3.00       1.75      1460.00     5000.75     1.00   \n",
              "50%      460943.46      3.00       2.25      1980.00     7683.00     1.50   \n",
              "75%      654962.50      4.00       2.50      2620.00    11001.25     2.00   \n",
              "max    26590000.00      9.00       8.00     13540.00  1074218.00     3.50   \n",
              "\n",
              "       waterfront     view  condition  sqft_above  sqft_basement  yr_built   \n",
              "count     4600.00  4600.00    4600.00     4600.00        4600.00   4600.00  \\\n",
              "mean         0.01     0.24       3.45     1827.27         312.08   1970.79   \n",
              "std          0.08     0.78       0.68      862.17         464.14     29.73   \n",
              "min          0.00     0.00       1.00      370.00           0.00   1900.00   \n",
              "25%          0.00     0.00       3.00     1190.00           0.00   1951.00   \n",
              "50%          0.00     0.00       3.00     1590.00           0.00   1976.00   \n",
              "75%          0.00     0.00       4.00     2300.00         610.00   1997.00   \n",
              "max          1.00     4.00       5.00     9410.00        4820.00   2014.00   \n",
              "\n",
              "       yr_renovated  \n",
              "count       4600.00  \n",
              "mean         808.61  \n",
              "std          979.41  \n",
              "min            0.00  \n",
              "25%            0.00  \n",
              "50%            0.00  \n",
              "75%         1999.00  \n",
              "max         2014.00  "
            ]
          },
          "execution_count": 373,
          "metadata": {},
          "output_type": "execute_result"
        }
      ],
      "source": [
        "#Check the Math measures by describe dataset by round the value upto 2 decimal points\n",
        "np.round(dataSet.describe(), 2)"
      ]
    },
    {
      "cell_type": "markdown",
      "metadata": {
        "id": "kFH0-CcH08KL"
      },
      "source": [
        "**Sactter Plot visualization by price against to living area**"
      ]
    },
    {
      "cell_type": "code",
      "execution_count": 374,
      "metadata": {
        "colab": {
          "base_uri": "https://localhost:8080/",
          "height": 489
        },
        "id": "3SzcQ5Up1GeH",
        "outputId": "ce868d8a-2ea2-4db5-caa3-ea1c3e21fb51"
      },
      "outputs": [
        {
          "data": {
            "text/plain": [
              "Text(0.5, 1.0, 'House Price by Living Area')"
            ]
          },
          "execution_count": 374,
          "metadata": {},
          "output_type": "execute_result"
        },
        {
          "data": {
            "image/png": "[encoded data removed]",
            "text/plain": [
              "<Figure size 640x480 with 1 Axes>"
            ]
          },
          "metadata": {},
          "output_type": "display_data"
        }
      ],
      "source": [
        "#Sactter Plot visualization by price against to living area\n",
        "plt.scatter(dataSet.sqft_living,dataSet.price)\n",
        "plt.xlabel('living_area')\n",
        "plt.ylabel('house_price')\n",
        "plt.title('House Price by Living Area')"
      ]
    },
    {
      "cell_type": "markdown",
      "metadata": {
        "id": "JvjbZ-A_1TGQ"
      },
      "source": [
        "**Data preprocessing by checing unique values to make raw data ready for ML model by Date**"
      ]
    },
    {
      "cell_type": "code",
      "execution_count": 375,
      "metadata": {
        "colab": {
          "base_uri": "https://localhost:8080/"
        },
        "id": "yaU3gm9L1XwY",
        "outputId": "c355e58e-2d76-4e66-9800-b0d1b2431125"
      },
      "outputs": [
        {
          "data": {
            "text/plain": [
              "array(['2014-05-02 00:00:00', '2014-05-03 00:00:00',\n",
              "       '2014-05-04 00:00:00', '2014-05-05 00:00:00',\n",
              "       '2014-05-06 00:00:00', '2014-05-07 00:00:00',\n",
              "       '2014-05-08 00:00:00', '2014-05-09 00:00:00',\n",
              "       '2014-05-10 00:00:00', '2014-05-11 00:00:00',\n",
              "       '2014-05-12 00:00:00', '2014-05-13 00:00:00',\n",
              "       '2014-05-14 00:00:00', '2014-05-15 00:00:00',\n",
              "       '2014-05-16 00:00:00', '2014-05-17 00:00:00',\n",
              "       '2014-05-18 00:00:00', '2014-05-19 00:00:00',\n",
              "       '2014-05-20 00:00:00', '2014-05-21 00:00:00',\n",
              "       '2014-05-22 00:00:00', '2014-05-23 00:00:00',\n",
              "       '2014-05-24 00:00:00', '2014-05-25 00:00:00',\n",
              "       '2014-05-26 00:00:00', '2014-05-27 00:00:00',\n",
              "       '2014-05-28 00:00:00', '2014-05-29 00:00:00',\n",
              "       '2014-05-30 00:00:00', '2014-05-31 00:00:00',\n",
              "       '2014-06-01 00:00:00', '2014-06-02 00:00:00',\n",
              "       '2014-06-03 00:00:00', '2014-06-04 00:00:00',\n",
              "       '2014-06-05 00:00:00', '2014-06-06 00:00:00',\n",
              "       '2014-06-07 00:00:00', '2014-06-08 00:00:00',\n",
              "       '2014-06-09 00:00:00', '2014-06-10 00:00:00',\n",
              "       '2014-06-11 00:00:00', '2014-06-12 00:00:00',\n",
              "       '2014-06-13 00:00:00', '2014-06-14 00:00:00',\n",
              "       '2014-06-15 00:00:00', '2014-06-16 00:00:00',\n",
              "       '2014-06-17 00:00:00', '2014-06-18 00:00:00',\n",
              "       '2014-06-19 00:00:00', '2014-06-20 00:00:00',\n",
              "       '2014-06-21 00:00:00', '2014-06-22 00:00:00',\n",
              "       '2014-06-23 00:00:00', '2014-06-24 00:00:00',\n",
              "       '2014-06-25 00:00:00', '2014-06-26 00:00:00',\n",
              "       '2014-06-27 00:00:00', '2014-06-28 00:00:00',\n",
              "       '2014-06-29 00:00:00', '2014-06-30 00:00:00',\n",
              "       '2014-07-01 00:00:00', '2014-07-02 00:00:00',\n",
              "       '2014-07-03 00:00:00', '2014-07-04 00:00:00',\n",
              "       '2014-07-05 00:00:00', '2014-07-06 00:00:00',\n",
              "       '2014-07-07 00:00:00', '2014-07-08 00:00:00',\n",
              "       '2014-07-09 00:00:00', '2014-07-10 00:00:00'], dtype=object)"
            ]
          },
          "execution_count": 375,
          "metadata": {},
          "output_type": "execute_result"
        }
      ],
      "source": [
        "#Data preprocessing by checing unique values to make raw data ready for ML model by Date\n",
        "dataSet['date'].unique()"
      ]
    },
    {
      "cell_type": "markdown",
      "metadata": {
        "id": "wvRKjvvY19KR"
      },
      "source": [
        "**BoxPlot data after preprocessing of data**"
      ]
    },
    {
      "cell_type": "code",
      "execution_count": 376,
      "metadata": {
        "colab": {
          "base_uri": "https://localhost:8080/",
          "height": 466
        },
        "id": "dAHkWpVU2DkP",
        "outputId": "892d9e39-04c9-455f-844b-862ecfb6a10e"
      },
      "outputs": [
        {
          "data": {
            "text/plain": [
              "<Axes: xlabel='price'>"
            ]
          },
          "execution_count": 376,
          "metadata": {},
          "output_type": "execute_result"
        },
        {
          "data": {
            "image/png": "[encoded data removed]",
            "text/plain": [
              "<Figure size 640x480 with 1 Axes>"
            ]
          },
          "metadata": {},
          "output_type": "display_data"
        }
      ],
      "source": [
        "#BoxPlot data after preprocessing of data\n",
        "sns.boxplot(x=dataSet['price'], data=dataSet)"
      ]
    },
    {
      "cell_type": "markdown",
      "metadata": {
        "id": "CD6HE_P12X_A"
      },
      "source": [
        "*We can see theres more outliers in this BoxPlot* "
      ]
    },
    {
      "cell_type": "markdown",
      "metadata": {
        "id": "hJX-eOpA2z1P"
      },
      "source": [
        "**Histogram View of DataSet**"
      ]
    },
    {
      "cell_type": "code",
      "execution_count": 377,
      "metadata": {
        "colab": {
          "base_uri": "https://localhost:8080/",
          "height": 523
        },
        "id": "iREuI3-O2394",
        "outputId": "fce9a8c9-923b-42b1-9e06-46da44ec5b9d"
      },
      "outputs": [
        {
          "data": {
            "text/plain": [
              "<seaborn.axisgrid.FacetGrid at 0x203fd0c1930>"
            ]
          },
          "execution_count": 377,
          "metadata": {},
          "output_type": "execute_result"
        },
        {
          "data": {
            "image/png": "[encoded data removed]",
            "text/plain": [
              "<Figure size 500x500 with 1 Axes>"
            ]
          },
          "metadata": {},
          "output_type": "display_data"
        }
      ],
      "source": [
        "#Histogram View of DataSet\n",
        "sns.displot(x=dataSet['price'])"
      ]
    },
    {
      "cell_type": "markdown",
      "metadata": {
        "id": "lzOmbn1S3HoZ"
      },
      "source": [
        "*Need to remove outliers of price data before train model*"
      ]
    },
    {
      "cell_type": "markdown",
      "metadata": {
        "id": "3U37JDg43UDI"
      },
      "source": [
        "**Removing outliers by using function**"
      ]
    },
    {
      "cell_type": "code",
      "execution_count": 378,
      "metadata": {
        "id": "YsAf3SCV3Yjg"
      },
      "outputs": [],
      "source": [
        "#Removing outliers by using function\n",
        "def remove_outliers(dataSet, x):\n",
        "    Q25 = np.percentile(dataSet[x], 25)\n",
        "    Q75 = np.percentile(dataSet[x], 75)\n",
        "    IQR = Q75 - Q25\n",
        "    cut_off = IQR * 1.5\n",
        "    lower_limit, upper_limit = 1, (Q75 + cut_off)\n",
        "    dataSet = dataSet[(dataSet[x] < upper_limit) & (dataSet[x] > lower_limit)]\n",
        "    print(f\"Function called and Outliers of {x} are removed success !!!\\n\")\n",
        "    return dataSet"
      ]
    },
    {
      "cell_type": "code",
      "execution_count": 379,
      "metadata": {
        "colab": {
          "base_uri": "https://localhost:8080/"
        },
        "id": "41w94td04l5v",
        "outputId": "b17fe2e8-dde1-4828-d69c-fd0c14983c7e"
      },
      "outputs": [
        {
          "name": "stdout",
          "output_type": "stream",
          "text": [
            "Function called and Outliers of price are removed success !!!\n",
            "\n"
          ]
        }
      ],
      "source": [
        "dataSet = remove_outliers(dataSet, 'price')"
      ]
    },
    {
      "cell_type": "markdown",
      "metadata": {
        "id": "jGHbFZZG42NK"
      },
      "source": [
        "**After removing outliers of price check the remain data**"
      ]
    },
    {
      "cell_type": "code",
      "execution_count": 380,
      "metadata": {
        "colab": {
          "base_uri": "https://localhost:8080/"
        },
        "id": "pbYbSfqd4_6Y",
        "outputId": "cad95fbf-6f59-4dbf-d17d-2cd1009684b6"
      },
      "outputs": [
        {
          "data": {
            "text/plain": [
              "(4311, 18)"
            ]
          },
          "execution_count": 380,
          "metadata": {},
          "output_type": "execute_result"
        }
      ],
      "source": [
        "#After removing outliers of price check the remain data\n",
        "dataSet.shape"
      ]
    },
    {
      "cell_type": "markdown",
      "metadata": {
        "id": "f1Sks_By5C5I"
      },
      "source": [
        "*From 4600 reduced to 4311 rows*"
      ]
    },
    {
      "cell_type": "markdown",
      "metadata": {
        "id": "BirDh7XK5HY4"
      },
      "source": [
        "**Data Describe after removing outliers and transpose index and columns**"
      ]
    },
    {
      "cell_type": "code",
      "execution_count": 381,
      "metadata": {
        "colab": {
          "base_uri": "https://localhost:8080/",
          "height": 457
        },
        "id": "V8Vuu_KS5Ntu",
        "outputId": "8467ed13-cdbf-4e24-d430-43304cfffd40"
      },
      "outputs": [
        {
          "data": {
            "text/html": [
              "<div>\n",
              "<style scoped>\n",
              "    .dataframe tbody tr th:only-of-type {\n",
              "        vertical-align: middle;\n",
              "    }\n",
              "\n",
              "    .dataframe tbody tr th {\n",
              "        vertical-align: top;\n",
              "    }\n",
              "\n",
              "    .dataframe thead th {\n",
              "        text-align: right;\n",
              "    }\n",
              "</style>\n",
              "<table border=\"1\" class=\"dataframe\">\n",
              "  <thead>\n",
              "    <tr style=\"text-align: right;\">\n",
              "      <th></th>\n",
              "      <th>count</th>\n",
              "      <th>mean</th>\n",
              "      <th>std</th>\n",
              "      <th>min</th>\n",
              "      <th>25%</th>\n",
              "      <th>50%</th>\n",
              "      <th>75%</th>\n",
              "      <th>max</th>\n",
              "    </tr>\n",
              "  </thead>\n",
              "  <tbody>\n",
              "    <tr>\n",
              "      <th>price</th>\n",
              "      <td>4311.0</td>\n",
              "      <td>487456.901904</td>\n",
              "      <td>215659.641022</td>\n",
              "      <td>7800.0</td>\n",
              "      <td>320000.00</td>\n",
              "      <td>450000.00</td>\n",
              "      <td>615000.0</td>\n",
              "      <td>1150000.00</td>\n",
              "    </tr>\n",
              "    <tr>\n",
              "      <th>bedrooms</th>\n",
              "      <td>4311.0</td>\n",
              "      <td>3.351659</td>\n",
              "      <td>0.881215</td>\n",
              "      <td>0.0</td>\n",
              "      <td>3.00</td>\n",
              "      <td>3.00</td>\n",
              "      <td>4.0</td>\n",
              "      <td>9.00</td>\n",
              "    </tr>\n",
              "    <tr>\n",
              "      <th>bathrooms</th>\n",
              "      <td>4311.0</td>\n",
              "      <td>2.094352</td>\n",
              "      <td>0.715171</td>\n",
              "      <td>0.0</td>\n",
              "      <td>1.75</td>\n",
              "      <td>2.25</td>\n",
              "      <td>2.5</td>\n",
              "      <td>5.75</td>\n",
              "    </tr>\n",
              "    <tr>\n",
              "      <th>sqft_living</th>\n",
              "      <td>4311.0</td>\n",
              "      <td>2030.697982</td>\n",
              "      <td>810.138266</td>\n",
              "      <td>370.0</td>\n",
              "      <td>1430.00</td>\n",
              "      <td>1920.00</td>\n",
              "      <td>2510.0</td>\n",
              "      <td>7320.00</td>\n",
              "    </tr>\n",
              "    <tr>\n",
              "      <th>sqft_lot</th>\n",
              "      <td>4311.0</td>\n",
              "      <td>14598.596149</td>\n",
              "      <td>36141.110719</td>\n",
              "      <td>638.0</td>\n",
              "      <td>5000.00</td>\n",
              "      <td>7566.00</td>\n",
              "      <td>10696.5</td>\n",
              "      <td>1074218.00</td>\n",
              "    </tr>\n",
              "    <tr>\n",
              "      <th>floors</th>\n",
              "      <td>4311.0</td>\n",
              "      <td>1.495129</td>\n",
              "      <td>0.536898</td>\n",
              "      <td>1.0</td>\n",
              "      <td>1.00</td>\n",
              "      <td>1.50</td>\n",
              "      <td>2.0</td>\n",
              "      <td>3.50</td>\n",
              "    </tr>\n",
              "    <tr>\n",
              "      <th>waterfront</th>\n",
              "      <td>4311.0</td>\n",
              "      <td>0.003711</td>\n",
              "      <td>0.060815</td>\n",
              "      <td>0.0</td>\n",
              "      <td>0.00</td>\n",
              "      <td>0.00</td>\n",
              "      <td>0.0</td>\n",
              "      <td>1.00</td>\n",
              "    </tr>\n",
              "    <tr>\n",
              "      <th>view</th>\n",
              "      <td>4311.0</td>\n",
              "      <td>0.173742</td>\n",
              "      <td>0.644964</td>\n",
              "      <td>0.0</td>\n",
              "      <td>0.00</td>\n",
              "      <td>0.00</td>\n",
              "      <td>0.0</td>\n",
              "      <td>4.00</td>\n",
              "    </tr>\n",
              "    <tr>\n",
              "      <th>condition</th>\n",
              "      <td>4311.0</td>\n",
              "      <td>3.443749</td>\n",
              "      <td>0.669194</td>\n",
              "      <td>1.0</td>\n",
              "      <td>3.00</td>\n",
              "      <td>3.00</td>\n",
              "      <td>4.0</td>\n",
              "      <td>5.00</td>\n",
              "    </tr>\n",
              "    <tr>\n",
              "      <th>sqft_above</th>\n",
              "      <td>4311.0</td>\n",
              "      <td>1747.008583</td>\n",
              "      <td>763.543329</td>\n",
              "      <td>370.0</td>\n",
              "      <td>1170.00</td>\n",
              "      <td>1540.00</td>\n",
              "      <td>2190.0</td>\n",
              "      <td>7320.00</td>\n",
              "    </tr>\n",
              "    <tr>\n",
              "      <th>sqft_basement</th>\n",
              "      <td>4311.0</td>\n",
              "      <td>283.689399</td>\n",
              "      <td>422.527450</td>\n",
              "      <td>0.0</td>\n",
              "      <td>0.00</td>\n",
              "      <td>0.00</td>\n",
              "      <td>560.0</td>\n",
              "      <td>2300.00</td>\n",
              "    </tr>\n",
              "    <tr>\n",
              "      <th>yr_built</th>\n",
              "      <td>4311.0</td>\n",
              "      <td>1970.881234</td>\n",
              "      <td>29.506086</td>\n",
              "      <td>1900.0</td>\n",
              "      <td>1951.00</td>\n",
              "      <td>1976.00</td>\n",
              "      <td>1996.0</td>\n",
              "      <td>2014.00</td>\n",
              "    </tr>\n",
              "    <tr>\n",
              "      <th>yr_renovated</th>\n",
              "      <td>4311.0</td>\n",
              "      <td>810.582000</td>\n",
              "      <td>979.844447</td>\n",
              "      <td>0.0</td>\n",
              "      <td>0.00</td>\n",
              "      <td>0.00</td>\n",
              "      <td>1999.0</td>\n",
              "      <td>2014.00</td>\n",
              "    </tr>\n",
              "  </tbody>\n",
              "</table>\n",
              "</div>"
            ],
            "text/plain": [
              "                count           mean            std     min        25%   \n",
              "price          4311.0  487456.901904  215659.641022  7800.0  320000.00  \\\n",
              "bedrooms       4311.0       3.351659       0.881215     0.0       3.00   \n",
              "bathrooms      4311.0       2.094352       0.715171     0.0       1.75   \n",
              "sqft_living    4311.0    2030.697982     810.138266   370.0    1430.00   \n",
              "sqft_lot       4311.0   14598.596149   36141.110719   638.0    5000.00   \n",
              "floors         4311.0       1.495129       0.536898     1.0       1.00   \n",
              "waterfront     4311.0       0.003711       0.060815     0.0       0.00   \n",
              "view           4311.0       0.173742       0.644964     0.0       0.00   \n",
              "condition      4311.0       3.443749       0.669194     1.0       3.00   \n",
              "sqft_above     4311.0    1747.008583     763.543329   370.0    1170.00   \n",
              "sqft_basement  4311.0     283.689399     422.527450     0.0       0.00   \n",
              "yr_built       4311.0    1970.881234      29.506086  1900.0    1951.00   \n",
              "yr_renovated   4311.0     810.582000     979.844447     0.0       0.00   \n",
              "\n",
              "                     50%       75%         max  \n",
              "price          450000.00  615000.0  1150000.00  \n",
              "bedrooms            3.00       4.0        9.00  \n",
              "bathrooms           2.25       2.5        5.75  \n",
              "sqft_living      1920.00    2510.0     7320.00  \n",
              "sqft_lot         7566.00   10696.5  1074218.00  \n",
              "floors              1.50       2.0        3.50  \n",
              "waterfront          0.00       0.0        1.00  \n",
              "view                0.00       0.0        4.00  \n",
              "condition           3.00       4.0        5.00  \n",
              "sqft_above       1540.00    2190.0     7320.00  \n",
              "sqft_basement       0.00     560.0     2300.00  \n",
              "yr_built         1976.00    1996.0     2014.00  \n",
              "yr_renovated        0.00    1999.0     2014.00  "
            ]
          },
          "execution_count": 381,
          "metadata": {},
          "output_type": "execute_result"
        }
      ],
      "source": [
        "#Data Describe after removing outliers and transpose index and columns\n",
        "dataSet.describe().T"
      ]
    },
    {
      "cell_type": "markdown",
      "metadata": {
        "id": "Mp8ENL2t5eYQ"
      },
      "source": [
        "**Histogram Visualization after the preprocess**"
      ]
    },
    {
      "cell_type": "code",
      "execution_count": 382,
      "metadata": {
        "colab": {
          "base_uri": "https://localhost:8080/",
          "height": 523
        },
        "id": "S3-yPgCR5lAY",
        "outputId": "623011ae-2337-4334-8740-d3e053120a47"
      },
      "outputs": [
        {
          "data": {
            "text/plain": [
              "<seaborn.axisgrid.FacetGrid at 0x203fd12b430>"
            ]
          },
          "execution_count": 382,
          "metadata": {},
          "output_type": "execute_result"
        },
        {
          "data": {
            "image/png": "[encoded data removed]",
            "text/plain": [
              "<Figure size 500x500 with 1 Axes>"
            ]
          },
          "metadata": {},
          "output_type": "display_data"
        }
      ],
      "source": [
        "#Histogram Visualization after the preprocess\n",
        "sns.displot(x=dataSet['price'])"
      ]
    },
    {
      "cell_type": "markdown",
      "metadata": {
        "id": "UEhU8pzG5sNP"
      },
      "source": [
        "*Price will be vary in several year so need to get the date time data properly before train the model*"
      ]
    },
    {
      "cell_type": "markdown",
      "metadata": {
        "id": "uASVvZ-U59gn"
      },
      "source": [
        "**Convertion of Date data**"
      ]
    },
    {
      "cell_type": "code",
      "execution_count": 383,
      "metadata": {
        "colab": {
          "base_uri": "https://localhost:8080/"
        },
        "id": "j6vxR0hM6BwP",
        "outputId": "8bb74896-ad62-4693-d23d-8dcf75f05c72"
      },
      "outputs": [
        {
          "data": {
            "text/plain": [
              "dtype('<M8[ns]')"
            ]
          },
          "execution_count": 383,
          "metadata": {},
          "output_type": "execute_result"
        }
      ],
      "source": [
        "#Convertion of Date data\n",
        "dataSet['date'] = pd.to_datetime(dataSet['date'])\n",
        "dataSet['date'].dtype"
      ]
    },
    {
      "cell_type": "markdown",
      "metadata": {
        "id": "VRLnD2AS6RhA"
      },
      "source": [
        "**Extraction of year & month** "
      ]
    },
    {
      "cell_type": "code",
      "execution_count": 384,
      "metadata": {
        "id": "TU29TfgX6YkH"
      },
      "outputs": [],
      "source": [
        "#Extraction of year & month\n",
        "dataSet['year'] = dataSet['date'].dt.year\n",
        "dataSet['month'] = dataSet['date'].dt.month"
      ]
    },
    {
      "cell_type": "markdown",
      "metadata": {
        "id": "CgE4Gwkk6oJ4"
      },
      "source": [
        "**Data Preview after changes**"
      ]
    },
    {
      "cell_type": "code",
      "execution_count": 385,
      "metadata": {
        "colab": {
          "base_uri": "https://localhost:8080/",
          "height": 206
        },
        "id": "x0x5A5G56rlI",
        "outputId": "6c3f41e9-013b-4645-99db-bc7fa722ce35"
      },
      "outputs": [
        {
          "data": {
            "text/html": [
              "<div>\n",
              "<style scoped>\n",
              "    .dataframe tbody tr th:only-of-type {\n",
              "        vertical-align: middle;\n",
              "    }\n",
              "\n",
              "    .dataframe tbody tr th {\n",
              "        vertical-align: top;\n",
              "    }\n",
              "\n",
              "    .dataframe thead th {\n",
              "        text-align: right;\n",
              "    }\n",
              "</style>\n",
              "<table border=\"1\" class=\"dataframe\">\n",
              "  <thead>\n",
              "    <tr style=\"text-align: right;\">\n",
              "      <th></th>\n",
              "      <th>date</th>\n",
              "      <th>price</th>\n",
              "      <th>bedrooms</th>\n",
              "      <th>bathrooms</th>\n",
              "      <th>sqft_living</th>\n",
              "      <th>sqft_lot</th>\n",
              "      <th>floors</th>\n",
              "      <th>waterfront</th>\n",
              "      <th>view</th>\n",
              "      <th>condition</th>\n",
              "      <th>sqft_above</th>\n",
              "      <th>sqft_basement</th>\n",
              "      <th>yr_built</th>\n",
              "      <th>yr_renovated</th>\n",
              "      <th>street</th>\n",
              "      <th>city</th>\n",
              "      <th>statezip</th>\n",
              "      <th>country</th>\n",
              "      <th>year</th>\n",
              "      <th>month</th>\n",
              "    </tr>\n",
              "  </thead>\n",
              "  <tbody>\n",
              "    <tr>\n",
              "      <th>0</th>\n",
              "      <td>2014-05-02</td>\n",
              "      <td>313000.0</td>\n",
              "      <td>3.0</td>\n",
              "      <td>1.50</td>\n",
              "      <td>1340</td>\n",
              "      <td>7912</td>\n",
              "      <td>1.5</td>\n",
              "      <td>0</td>\n",
              "      <td>0</td>\n",
              "      <td>3</td>\n",
              "      <td>1340</td>\n",
              "      <td>0</td>\n",
              "      <td>1955</td>\n",
              "      <td>2005</td>\n",
              "      <td>18810 Densmore Ave N</td>\n",
              "      <td>Shoreline</td>\n",
              "      <td>WA 98133</td>\n",
              "      <td>USA</td>\n",
              "      <td>2014</td>\n",
              "      <td>5</td>\n",
              "    </tr>\n",
              "    <tr>\n",
              "      <th>2</th>\n",
              "      <td>2014-05-02</td>\n",
              "      <td>342000.0</td>\n",
              "      <td>3.0</td>\n",
              "      <td>2.00</td>\n",
              "      <td>1930</td>\n",
              "      <td>11947</td>\n",
              "      <td>1.0</td>\n",
              "      <td>0</td>\n",
              "      <td>0</td>\n",
              "      <td>4</td>\n",
              "      <td>1930</td>\n",
              "      <td>0</td>\n",
              "      <td>1966</td>\n",
              "      <td>0</td>\n",
              "      <td>26206-26214 143rd Ave SE</td>\n",
              "      <td>Kent</td>\n",
              "      <td>WA 98042</td>\n",
              "      <td>USA</td>\n",
              "      <td>2014</td>\n",
              "      <td>5</td>\n",
              "    </tr>\n",
              "    <tr>\n",
              "      <th>3</th>\n",
              "      <td>2014-05-02</td>\n",
              "      <td>420000.0</td>\n",
              "      <td>3.0</td>\n",
              "      <td>2.25</td>\n",
              "      <td>2000</td>\n",
              "      <td>8030</td>\n",
              "      <td>1.0</td>\n",
              "      <td>0</td>\n",
              "      <td>0</td>\n",
              "      <td>4</td>\n",
              "      <td>1000</td>\n",
              "      <td>1000</td>\n",
              "      <td>1963</td>\n",
              "      <td>0</td>\n",
              "      <td>857 170th Pl NE</td>\n",
              "      <td>Bellevue</td>\n",
              "      <td>WA 98008</td>\n",
              "      <td>USA</td>\n",
              "      <td>2014</td>\n",
              "      <td>5</td>\n",
              "    </tr>\n",
              "    <tr>\n",
              "      <th>4</th>\n",
              "      <td>2014-05-02</td>\n",
              "      <td>550000.0</td>\n",
              "      <td>4.0</td>\n",
              "      <td>2.50</td>\n",
              "      <td>1940</td>\n",
              "      <td>10500</td>\n",
              "      <td>1.0</td>\n",
              "      <td>0</td>\n",
              "      <td>0</td>\n",
              "      <td>4</td>\n",
              "      <td>1140</td>\n",
              "      <td>800</td>\n",
              "      <td>1976</td>\n",
              "      <td>1992</td>\n",
              "      <td>9105 170th Ave NE</td>\n",
              "      <td>Redmond</td>\n",
              "      <td>WA 98052</td>\n",
              "      <td>USA</td>\n",
              "      <td>2014</td>\n",
              "      <td>5</td>\n",
              "    </tr>\n",
              "    <tr>\n",
              "      <th>5</th>\n",
              "      <td>2014-05-02</td>\n",
              "      <td>490000.0</td>\n",
              "      <td>2.0</td>\n",
              "      <td>1.00</td>\n",
              "      <td>880</td>\n",
              "      <td>6380</td>\n",
              "      <td>1.0</td>\n",
              "      <td>0</td>\n",
              "      <td>0</td>\n",
              "      <td>3</td>\n",
              "      <td>880</td>\n",
              "      <td>0</td>\n",
              "      <td>1938</td>\n",
              "      <td>1994</td>\n",
              "      <td>522 NE 88th St</td>\n",
              "      <td>Seattle</td>\n",
              "      <td>WA 98115</td>\n",
              "      <td>USA</td>\n",
              "      <td>2014</td>\n",
              "      <td>5</td>\n",
              "    </tr>\n",
              "  </tbody>\n",
              "</table>\n",
              "</div>"
            ],
            "text/plain": [
              "        date     price  bedrooms  bathrooms  sqft_living  sqft_lot  floors   \n",
              "0 2014-05-02  313000.0       3.0       1.50         1340      7912     1.5  \\\n",
              "2 2014-05-02  342000.0       3.0       2.00         1930     11947     1.0   \n",
              "3 2014-05-02  420000.0       3.0       2.25         2000      8030     1.0   \n",
              "4 2014-05-02  550000.0       4.0       2.50         1940     10500     1.0   \n",
              "5 2014-05-02  490000.0       2.0       1.00          880      6380     1.0   \n",
              "\n",
              "   waterfront  view  condition  sqft_above  sqft_basement  yr_built   \n",
              "0           0     0          3        1340              0      1955  \\\n",
              "2           0     0          4        1930              0      1966   \n",
              "3           0     0          4        1000           1000      1963   \n",
              "4           0     0          4        1140            800      1976   \n",
              "5           0     0          3         880              0      1938   \n",
              "\n",
              "   yr_renovated                    street       city  statezip country  year   \n",
              "0          2005      18810 Densmore Ave N  Shoreline  WA 98133     USA  2014  \\\n",
              "2             0  26206-26214 143rd Ave SE       Kent  WA 98042     USA  2014   \n",
              "3             0           857 170th Pl NE   Bellevue  WA 98008     USA  2014   \n",
              "4          1992         9105 170th Ave NE    Redmond  WA 98052     USA  2014   \n",
              "5          1994            522 NE 88th St    Seattle  WA 98115     USA  2014   \n",
              "\n",
              "   month  \n",
              "0      5  \n",
              "2      5  \n",
              "3      5  \n",
              "4      5  \n",
              "5      5  "
            ]
          },
          "execution_count": 385,
          "metadata": {},
          "output_type": "execute_result"
        }
      ],
      "source": [
        "#Data Preview after changes\n",
        "dataSet.head()"
      ]
    },
    {
      "cell_type": "markdown",
      "metadata": {
        "id": "Qyjxy0336vq_"
      },
      "source": [
        "*Seems like all year data in same year and need to remove them before train*"
      ]
    },
    {
      "cell_type": "markdown",
      "metadata": {
        "id": "78i1yOu16_5o"
      },
      "source": [
        "**Removing unwanted columns from dataset for ML model** "
      ]
    },
    {
      "cell_type": "code",
      "execution_count": 386,
      "metadata": {
        "id": "r26Vn2z97Yqp"
      },
      "outputs": [],
      "source": [
        "#Removing unwanted columns from dataset for ML model\n",
        "dataSet.drop(['year', 'date', 'statezip' , 'country' , 'street' ], axis=1, inplace=True)"
      ]
    },
    {
      "cell_type": "markdown",
      "metadata": {
        "id": "bYu4BAO879dE"
      },
      "source": [
        "**Data set from country USA and lets check how many houses by its cities**"
      ]
    },
    {
      "cell_type": "code",
      "execution_count": 387,
      "metadata": {
        "colab": {
          "base_uri": "https://localhost:8080/"
        },
        "id": "RPOqqMyR8RfG",
        "outputId": "b639f4c9-a0bc-43f6-cd29-412c0b793ef3"
      },
      "outputs": [
        {
          "data": {
            "text/plain": [
              "city\n",
              "Seattle                1461\n",
              "Renton                  291\n",
              "Bellevue                232\n",
              "Redmond                 227\n",
              "Kent                    183\n",
              "Issaquah                183\n",
              "Kirkland                176\n",
              "Auburn                  175\n",
              "Sammamish               166\n",
              "Federal Way             145\n",
              "Shoreline               121\n",
              "Woodinville             111\n",
              "Maple Valley             95\n",
              "Burien                   72\n",
              "Snoqualmie               69\n",
              "Kenmore                  65\n",
              "Des Moines               58\n",
              "Mercer Island            50\n",
              "North Bend               50\n",
              "Duvall                   42\n",
              "Covington                41\n",
              "Lake Forest Park         34\n",
              "Bothell                  33\n",
              "Newcastle                31\n",
              "Vashon                   29\n",
              "SeaTac                   28\n",
              "Tukwila                  28\n",
              "Enumclaw                 27\n",
              "Carnation                21\n",
              "Normandy Park            16\n",
              "Fall City                 9\n",
              "Black Diamond             8\n",
              "Ravensdale                7\n",
              "Pacific                   6\n",
              "Algona                    5\n",
              "Clyde Hill                3\n",
              "Skykomish                 3\n",
              "Preston                   2\n",
              "Milton                    2\n",
              "Yarrow Point              2\n",
              "Snoqualmie Pass           1\n",
              "Inglewood-Finn Hill       1\n",
              "Beaux Arts Village        1\n",
              "Medina                    1\n",
              "Name: count, dtype: int64"
            ]
          },
          "execution_count": 387,
          "metadata": {},
          "output_type": "execute_result"
        }
      ],
      "source": [
        "#Data set from country USA and lets check how many houses by its cities\n",
        "dataSet['city'].value_counts()"
      ]
    },
    {
      "cell_type": "markdown",
      "metadata": {
        "id": "PRvJEDSt8ZEw"
      },
      "source": [
        "**BarPlot view of top 10 cities**"
      ]
    },
    {
      "cell_type": "code",
      "execution_count": 388,
      "metadata": {
        "colab": {
          "base_uri": "https://localhost:8080/",
          "height": 466
        },
        "id": "2rKt8AN78bxw",
        "outputId": "2bb69c72-4570-44ff-dd3c-4a6d06c96578"
      },
      "outputs": [
        {
          "data": {
            "text/plain": [
              "<Axes: xlabel='count', ylabel='city'>"
            ]
          },
          "execution_count": 388,
          "metadata": {},
          "output_type": "execute_result"
        },
        {
          "data": {
            "image/png": "[encoded data removed]",
            "text/plain": [
              "<Figure size 640x480 with 1 Axes>"
            ]
          },
          "metadata": {},
          "output_type": "display_data"
        }
      ],
      "source": [
        "#BarPlot view of top 10 cities\n",
        "Top_cities = dataSet['city'].value_counts().head(10)\n",
        "sns.barplot(x = Top_cities, y=Top_cities.index)"
      ]
    },
    {
      "cell_type": "markdown",
      "metadata": {
        "id": "ugkNKY2KCaC3"
      },
      "source": [
        "**Give value 1 or 0 for renovated or not as int data**"
      ]
    },
    {
      "cell_type": "code",
      "execution_count": 389,
      "metadata": {
        "id": "1sZTSyNcChJA"
      },
      "outputs": [],
      "source": [
        "#Give value 1 or 0 for renovated or not as int data\n",
        "dataSet['yr_renovated'] = dataSet['yr_renovated'].apply(lambda x: x if x == 0 else 1)"
      ]
    },
    {
      "cell_type": "markdown",
      "metadata": {
        "id": "6knG1EqRCnNI"
      },
      "source": [
        "**Lets see how many houses renovated or not in data set**"
      ]
    },
    {
      "cell_type": "code",
      "execution_count": 390,
      "metadata": {
        "colab": {
          "base_uri": "https://localhost:8080/"
        },
        "id": "ChKCONI1CsNH",
        "outputId": "dbbf5254-3c4f-4f4f-bd04-67f91d652753"
      },
      "outputs": [
        {
          "data": {
            "text/plain": [
              "yr_renovated\n",
              "0    2559\n",
              "1    1752\n",
              "Name: count, dtype: int64"
            ]
          },
          "execution_count": 390,
          "metadata": {},
          "output_type": "execute_result"
        }
      ],
      "source": [
        "#Lets see how many houses renovated or not in data set\n",
        "dataSet['yr_renovated'].value_counts()"
      ]
    },
    {
      "cell_type": "markdown",
      "metadata": {
        "id": "YaLh3zrj8qF3"
      },
      "source": [
        "**Handling the categorical data**"
      ]
    },
    {
      "cell_type": "code",
      "execution_count": 391,
      "metadata": {
        "colab": {
          "base_uri": "https://localhost:8080/",
          "height": 317
        },
        "id": "dGaUYDT79s8H",
        "outputId": "6dd554a1-4782-4209-9885-39c910c45313"
      },
      "outputs": [
        {
          "data": {
            "text/html": [
              "<div>\n",
              "<style scoped>\n",
              "    .dataframe tbody tr th:only-of-type {\n",
              "        vertical-align: middle;\n",
              "    }\n",
              "\n",
              "    .dataframe tbody tr th {\n",
              "        vertical-align: top;\n",
              "    }\n",
              "\n",
              "    .dataframe thead th {\n",
              "        text-align: right;\n",
              "    }\n",
              "</style>\n",
              "<table border=\"1\" class=\"dataframe\">\n",
              "  <thead>\n",
              "    <tr style=\"text-align: right;\">\n",
              "      <th></th>\n",
              "      <th>price</th>\n",
              "      <th>bedrooms</th>\n",
              "      <th>bathrooms</th>\n",
              "      <th>sqft_living</th>\n",
              "      <th>sqft_lot</th>\n",
              "      <th>floors</th>\n",
              "      <th>waterfront</th>\n",
              "      <th>view</th>\n",
              "      <th>condition</th>\n",
              "      <th>sqft_above</th>\n",
              "      <th>...</th>\n",
              "      <th>city_SeaTac</th>\n",
              "      <th>city_Seattle</th>\n",
              "      <th>city_Shoreline</th>\n",
              "      <th>city_Skykomish</th>\n",
              "      <th>city_Snoqualmie</th>\n",
              "      <th>city_Snoqualmie Pass</th>\n",
              "      <th>city_Tukwila</th>\n",
              "      <th>city_Vashon</th>\n",
              "      <th>city_Woodinville</th>\n",
              "      <th>city_Yarrow Point</th>\n",
              "    </tr>\n",
              "  </thead>\n",
              "  <tbody>\n",
              "    <tr>\n",
              "      <th>0</th>\n",
              "      <td>313000.0</td>\n",
              "      <td>3.0</td>\n",
              "      <td>1.50</td>\n",
              "      <td>1340</td>\n",
              "      <td>7912</td>\n",
              "      <td>1.5</td>\n",
              "      <td>0</td>\n",
              "      <td>0</td>\n",
              "      <td>3</td>\n",
              "      <td>1340</td>\n",
              "      <td>...</td>\n",
              "      <td>False</td>\n",
              "      <td>False</td>\n",
              "      <td>True</td>\n",
              "      <td>False</td>\n",
              "      <td>False</td>\n",
              "      <td>False</td>\n",
              "      <td>False</td>\n",
              "      <td>False</td>\n",
              "      <td>False</td>\n",
              "      <td>False</td>\n",
              "    </tr>\n",
              "    <tr>\n",
              "      <th>2</th>\n",
              "      <td>342000.0</td>\n",
              "      <td>3.0</td>\n",
              "      <td>2.00</td>\n",
              "      <td>1930</td>\n",
              "      <td>11947</td>\n",
              "      <td>1.0</td>\n",
              "      <td>0</td>\n",
              "      <td>0</td>\n",
              "      <td>4</td>\n",
              "      <td>1930</td>\n",
              "      <td>...</td>\n",
              "      <td>False</td>\n",
              "      <td>False</td>\n",
              "      <td>False</td>\n",
              "      <td>False</td>\n",
              "      <td>False</td>\n",
              "      <td>False</td>\n",
              "      <td>False</td>\n",
              "      <td>False</td>\n",
              "      <td>False</td>\n",
              "      <td>False</td>\n",
              "    </tr>\n",
              "    <tr>\n",
              "      <th>3</th>\n",
              "      <td>420000.0</td>\n",
              "      <td>3.0</td>\n",
              "      <td>2.25</td>\n",
              "      <td>2000</td>\n",
              "      <td>8030</td>\n",
              "      <td>1.0</td>\n",
              "      <td>0</td>\n",
              "      <td>0</td>\n",
              "      <td>4</td>\n",
              "      <td>1000</td>\n",
              "      <td>...</td>\n",
              "      <td>False</td>\n",
              "      <td>False</td>\n",
              "      <td>False</td>\n",
              "      <td>False</td>\n",
              "      <td>False</td>\n",
              "      <td>False</td>\n",
              "      <td>False</td>\n",
              "      <td>False</td>\n",
              "      <td>False</td>\n",
              "      <td>False</td>\n",
              "    </tr>\n",
              "    <tr>\n",
              "      <th>4</th>\n",
              "      <td>550000.0</td>\n",
              "      <td>4.0</td>\n",
              "      <td>2.50</td>\n",
              "      <td>1940</td>\n",
              "      <td>10500</td>\n",
              "      <td>1.0</td>\n",
              "      <td>0</td>\n",
              "      <td>0</td>\n",
              "      <td>4</td>\n",
              "      <td>1140</td>\n",
              "      <td>...</td>\n",
              "      <td>False</td>\n",
              "      <td>False</td>\n",
              "      <td>False</td>\n",
              "      <td>False</td>\n",
              "      <td>False</td>\n",
              "      <td>False</td>\n",
              "      <td>False</td>\n",
              "      <td>False</td>\n",
              "      <td>False</td>\n",
              "      <td>False</td>\n",
              "    </tr>\n",
              "    <tr>\n",
              "      <th>5</th>\n",
              "      <td>490000.0</td>\n",
              "      <td>2.0</td>\n",
              "      <td>1.00</td>\n",
              "      <td>880</td>\n",
              "      <td>6380</td>\n",
              "      <td>1.0</td>\n",
              "      <td>0</td>\n",
              "      <td>0</td>\n",
              "      <td>3</td>\n",
              "      <td>880</td>\n",
              "      <td>...</td>\n",
              "      <td>False</td>\n",
              "      <td>True</td>\n",
              "      <td>False</td>\n",
              "      <td>False</td>\n",
              "      <td>False</td>\n",
              "      <td>False</td>\n",
              "      <td>False</td>\n",
              "      <td>False</td>\n",
              "      <td>False</td>\n",
              "      <td>False</td>\n",
              "    </tr>\n",
              "  </tbody>\n",
              "</table>\n",
              "<p>5 rows × 57 columns</p>\n",
              "</div>"
            ],
            "text/plain": [
              "      price  bedrooms  bathrooms  sqft_living  sqft_lot  floors  waterfront   \n",
              "0  313000.0       3.0       1.50         1340      7912     1.5           0  \\\n",
              "2  342000.0       3.0       2.00         1930     11947     1.0           0   \n",
              "3  420000.0       3.0       2.25         2000      8030     1.0           0   \n",
              "4  550000.0       4.0       2.50         1940     10500     1.0           0   \n",
              "5  490000.0       2.0       1.00          880      6380     1.0           0   \n",
              "\n",
              "   view  condition  sqft_above  ...  city_SeaTac  city_Seattle   \n",
              "0     0          3        1340  ...        False         False  \\\n",
              "2     0          4        1930  ...        False         False   \n",
              "3     0          4        1000  ...        False         False   \n",
              "4     0          4        1140  ...        False         False   \n",
              "5     0          3         880  ...        False          True   \n",
              "\n",
              "   city_Shoreline  city_Skykomish  city_Snoqualmie  city_Snoqualmie Pass   \n",
              "0            True           False            False                 False  \\\n",
              "2           False           False            False                 False   \n",
              "3           False           False            False                 False   \n",
              "4           False           False            False                 False   \n",
              "5           False           False            False                 False   \n",
              "\n",
              "   city_Tukwila  city_Vashon  city_Woodinville  city_Yarrow Point  \n",
              "0         False        False             False              False  \n",
              "2         False        False             False              False  \n",
              "3         False        False             False              False  \n",
              "4         False        False             False              False  \n",
              "5         False        False             False              False  \n",
              "\n",
              "[5 rows x 57 columns]"
            ]
          },
          "execution_count": 391,
          "metadata": {},
          "output_type": "execute_result"
        }
      ],
      "source": [
        "#Handling the categorical data\n",
        "dataSet = pd.get_dummies(dataSet, drop_first=True)\n",
        "dataSet.head()"
      ]
    },
    {
      "cell_type": "markdown",
      "metadata": {
        "id": "e4Q3ypQa97W5"
      },
      "source": [
        "*Dataset is ready for train and test for ML model*"
      ]
    },
    {
      "cell_type": "markdown",
      "metadata": {
        "id": "aEBx1VkS9_25"
      },
      "source": [
        "**Split the data for X and Y axis**"
      ]
    },
    {
      "cell_type": "code",
      "execution_count": 392,
      "metadata": {
        "id": "E5D1Vxjk-G6-"
      },
      "outputs": [],
      "source": [
        "#Split the data for X and Y axis\n",
        "X = dataSet.drop('price',axis=1)\n",
        "y = dataSet['price']"
      ]
    },
    {
      "cell_type": "markdown",
      "metadata": {
        "id": "1z8-U-r9-OKm"
      },
      "source": [
        "**Split dataset for train and testing purpose**"
      ]
    },
    {
      "cell_type": "code",
      "execution_count": 393,
      "metadata": {
        "id": "idlf0OYF-TiQ"
      },
      "outputs": [],
      "source": [
        "#Split dataset for train and testing purpose\n",
        "X_train, X_test, y_train, y_test = train_test_split(X, y, test_size=0.2, random_state=1500)"
      ]
    },
    {
      "cell_type": "markdown",
      "metadata": {
        "id": "FcchFAsf-ozm"
      },
      "source": [
        "**Using Standard scalar which removes the removes the mean and scales each feature/variable to unit variance**"
      ]
    },
    {
      "cell_type": "code",
      "execution_count": 394,
      "metadata": {
        "id": "AYL0Ms1t-w2_"
      },
      "outputs": [],
      "source": [
        "#Using Standard scalar which removes the removes the mean and scales each feature/variable to unit variance\n",
        "sc = StandardScaler()"
      ]
    },
    {
      "cell_type": "markdown",
      "metadata": {
        "id": "onoTzIAR--aX"
      },
      "source": [
        "**Transform data for Train and Test after using Standard scalar**"
      ]
    },
    {
      "cell_type": "code",
      "execution_count": 395,
      "metadata": {
        "id": "wlJNSrPH_F7X"
      },
      "outputs": [],
      "source": [
        "#Transform data for Train and Test after using Standard scalar\n",
        "X_train = sc.fit_transform(X_train)\n",
        "X_test = sc.transform(X_test)"
      ]
    },
    {
      "cell_type": "markdown",
      "metadata": {
        "id": "38o4HTGC_VQh"
      },
      "source": [
        "**Calling for Linear Regression Model**"
      ]
    },
    {
      "cell_type": "code",
      "execution_count": 396,
      "metadata": {
        "id": "13CK0QuJ_YXf"
      },
      "outputs": [],
      "source": [
        "#Calling for Linear Regression Model\n",
        "lr = LinearRegression()"
      ]
    },
    {
      "cell_type": "markdown",
      "metadata": {
        "id": "WGoF6vAu_f26"
      },
      "source": [
        "**Insert Data to Linear Regression model**"
      ]
    },
    {
      "cell_type": "code",
      "execution_count": 397,
      "metadata": {
        "colab": {
          "base_uri": "https://localhost:8080/",
          "height": 75
        },
        "id": "r0pp0JWi_mq4",
        "outputId": "834962db-ce5b-4694-c77c-7650a61dafac"
      },
      "outputs": [
        {
          "data": {
            "text/html": [
              "<style>#sk-container-id-12 {color: black;background-color: white;}#sk-container-id-12 pre{padding: 0;}#sk-container-id-12 div.sk-toggleable {background-color: white;}#sk-container-id-12 label.sk-toggleable__label {cursor: pointer;display: block;width: 100%;margin-bottom: 0;padding: 0.3em;box-sizing: border-box;text-align: center;}#sk-container-id-12 label.sk-toggleable__label-arrow:before {content: \"▸\";float: left;margin-right: 0.25em;color: #696969;}#sk-container-id-12 label.sk-toggleable__label-arrow:hover:before {color: black;}#sk-container-id-12 div.sk-estimator:hover label.sk-toggleable__label-arrow:before {color: black;}#sk-container-id-12 div.sk-toggleable__content {max-height: 0;max-width: 0;overflow: hidden;text-align: left;background-color: #f0f8ff;}#sk-container-id-12 div.sk-toggleable__content pre {margin: 0.2em;color: black;border-radius: 0.25em;background-color: #f0f8ff;}#sk-container-id-12 input.sk-toggleable__control:checked~div.sk-toggleable__content {max-height: 200px;max-width: 100%;overflow: auto;}#sk-container-id-12 input.sk-toggleable__control:checked~label.sk-toggleable__label-arrow:before {content: \"▾\";}#sk-container-id-12 div.sk-estimator input.sk-toggleable__control:checked~label.sk-toggleable__label {background-color: #d4ebff;}#sk-container-id-12 div.sk-label input.sk-toggleable__control:checked~label.sk-toggleable__label {background-color: #d4ebff;}#sk-container-id-12 input.sk-hidden--visually {border: 0;clip: rect(1px 1px 1px 1px);clip: rect(1px, 1px, 1px, 1px);height: 1px;margin: -1px;overflow: hidden;padding: 0;position: absolute;width: 1px;}#sk-container-id-12 div.sk-estimator {font-family: monospace;background-color: #f0f8ff;border: 1px dotted black;border-radius: 0.25em;box-sizing: border-box;margin-bottom: 0.5em;}#sk-container-id-12 div.sk-estimator:hover {background-color: #d4ebff;}#sk-container-id-12 div.sk-parallel-item::after {content: \"\";width: 100%;border-bottom: 1px solid gray;flex-grow: 1;}#sk-container-id-12 div.sk-label:hover label.sk-toggleable__label {background-color: #d4ebff;}#sk-container-id-12 div.sk-serial::before {content: \"\";position: absolute;border-left: 1px solid gray;box-sizing: border-box;top: 0;bottom: 0;left: 50%;z-index: 0;}#sk-container-id-12 div.sk-serial {display: flex;flex-direction: column;align-items: center;background-color: white;padding-right: 0.2em;padding-left: 0.2em;position: relative;}#sk-container-id-12 div.sk-item {position: relative;z-index: 1;}#sk-container-id-12 div.sk-parallel {display: flex;align-items: stretch;justify-content: center;background-color: white;position: relative;}#sk-container-id-12 div.sk-item::before, #sk-container-id-12 div.sk-parallel-item::before {content: \"\";position: absolute;border-left: 1px solid gray;box-sizing: border-box;top: 0;bottom: 0;left: 50%;z-index: -1;}#sk-container-id-12 div.sk-parallel-item {display: flex;flex-direction: column;z-index: 1;position: relative;background-color: white;}#sk-container-id-12 div.sk-parallel-item:first-child::after {align-self: flex-end;width: 50%;}#sk-container-id-12 div.sk-parallel-item:last-child::after {align-self: flex-start;width: 50%;}#sk-container-id-12 div.sk-parallel-item:only-child::after {width: 0;}#sk-container-id-12 div.sk-dashed-wrapped {border: 1px dashed gray;margin: 0 0.4em 0.5em 0.4em;box-sizing: border-box;padding-bottom: 0.4em;background-color: white;}#sk-container-id-12 div.sk-label label {font-family: monospace;font-weight: bold;display: inline-block;line-height: 1.2em;}#sk-container-id-12 div.sk-label-container {text-align: center;}#sk-container-id-12 div.sk-container {/* jupyter's `normalize.less` sets `[hidden] { display: none; }` but bootstrap.min.css set `[hidden] { display: none !important; }` so we also need the `!important` here to be able to override the default hidden behavior on the sphinx rendered scikit-learn.org. See: https://github.com/scikit-learn/scikit-learn/issues/21755 */display: inline-block !important;position: relative;}#sk-container-id-12 div.sk-text-repr-fallback {display: none;}</style><div id=\"sk-container-id-12\" class=\"sk-top-container\"><div class=\"sk-text-repr-fallback\"><pre>LinearRegression()</pre><b>In a Jupyter environment, please rerun this cell to show the HTML representation or trust the notebook. <br />On GitHub, the HTML representation is unable to render, please try loading this page with nbviewer.org.</b></div><div class=\"sk-container\" hidden><div class=\"sk-item\"><div class=\"sk-estimator sk-toggleable\"><input class=\"sk-toggleable__control sk-hidden--visually\" id=\"sk-estimator-id-12\" type=\"checkbox\" checked><label for=\"sk-estimator-id-12\" class=\"sk-toggleable__label sk-toggleable__label-arrow\">LinearRegression</label><div class=\"sk-toggleable__content\"><pre>LinearRegression()</pre></div></div></div></div></div>"
            ],
            "text/plain": [
              "LinearRegression()"
            ]
          },
          "execution_count": 397,
          "metadata": {},
          "output_type": "execute_result"
        }
      ],
      "source": [
        "#Insert Data to Linear Regression model\n",
        "lr.fit(X_train, y_train)"
      ]
    },
    {
      "attachments": {},
      "cell_type": "markdown",
      "metadata": {},
      "source": [
        "Predition of Data"
      ]
    },
    {
      "cell_type": "code",
      "execution_count": 398,
      "metadata": {},
      "outputs": [],
      "source": [
        "X_train_predict = lr.predict(X_train)\n",
        "X_test_predict = lr.predict(X_test)\n",
        "train = r2_score(y_train,X_train_predict)*100\n",
        "test = r2_score(y_test,X_test_predict)*100"
      ]
    },
    {
      "cell_type": "markdown",
      "metadata": {
        "id": "nOqUasCjAIuX"
      },
      "source": [
        "**Lets see the accuracy of train and test data inserted to LR model**"
      ]
    },
    {
      "cell_type": "code",
      "execution_count": 399,
      "metadata": {
        "colab": {
          "base_uri": "https://localhost:8080/"
        },
        "id": "rpjtPZwfAOEu",
        "outputId": "02340cb2-03b4-4b9b-a42f-cb879e6bda37"
      },
      "outputs": [
        {
          "name": "stdout",
          "output_type": "stream",
          "text": [
            "Accuracy of training set: 70.15909649190182\n",
            "Accuracy of testing set:  68.28173075377755\n"
          ]
        }
      ],
      "source": [
        "#Lets see the accuracy of train and test data inserted to LR model\n",
        "print(f\"Accuracy of training set:\",train)\n",
        "print(f\"Accuracy of testing set: \",test)"
      ]
    }
  ],
  "metadata": {
    "colab": {
      "provenance": []
    },
    "kernelspec": {
      "display_name": "Python 3",
      "name": "python3"
    },
    "language_info": {
      "codemirror_mode": {
        "name": "ipython",
        "version": 3
      },
      "file_extension": ".py",
      "mimetype": "text/x-python",
      "name": "python",
      "nbconvert_exporter": "python",
      "pygments_lexer": "ipython3",
      "version": "3.10.0"
    }
  },
  "nbformat": 4,
  "nbformat_minor": 0
}
